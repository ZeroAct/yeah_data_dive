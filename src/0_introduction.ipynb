{
 "cells": [
  {
   "cell_type": "markdown",
   "metadata": {},
   "source": [
    "# Introduction\n",
    "## What is Data?\n",
    "What is data?\n",
    "\n",
    "Data is a term that refers to information, especially facts or numbers, that can be used for various purposes, su.... blah blah blah\n",
    "\n",
    "Everything is data. Number, text, image, video, audio, etc...\n",
    "\n",
    "What can we do with data?\n",
    "\n",
    "I think data is like a history book. It tells us what happened in the past. So, we can predict the future based on the past or change the future based on lessons learned from the ancestors.\n",
    "\n",
    "We usually use data to predict the future in data science.\n",
    "Forecasting the weather, predicting the stock market, even detecting the disease.\n",
    "\n",
    "## About This Tutorial\n",
    "In this tutorial, we will learn how to use data and how can we analyze data with python.\n",
    "\n",
    "This tutorial deals with various data types, but focuses on `Image` data.\n",
    "\n",
    "And, different from other tutorials, it uses `Pytorch` deep learning framework for diving into data science.\n",
    "\n",
    "## For Whom?\n",
    "This tutorial is for those who want to understand data in deep learning, escpecially image data.\n",
    "\n",
    "It requires basic knowledge of python and deep learning."
   ]
  },
  {
   "cell_type": "markdown",
   "metadata": {},
   "source": []
  }
 ],
 "metadata": {
  "language_info": {
   "name": "python"
  }
 },
 "nbformat": 4,
 "nbformat_minor": 2
}
