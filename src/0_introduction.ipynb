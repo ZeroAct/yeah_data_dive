{
 "cells": [
  {
   "cell_type": "markdown",
   "metadata": {},
   "source": [
    "# Introduction\n",
    "What is data?\n",
    "\n",
    "Data is a term that refers to information, especially facts or numbers, that can be used for various purposes, su.... blah blah blah\n",
    "\n",
    "Everything is data. Number, text, image, video, audio, etc...\n",
    "\n",
    "What can we do with data?\n",
    "\n",
    "I think data is like a history book. It tells us what happened in the past. So, we can predict the future based on the past or change the future based on lessons learned from the ancestors.\n",
    "\n",
    "We usually use data to predict the future in data science.\n",
    "Forecasting the weather, predicting the stock market, even detecting the disease.\n",
    "\n",
    "In this series, we will learn how to use data and how can we analyze data with python."
   ]
  },
  {
   "cell_type": "markdown",
   "metadata": {},
   "source": []
  }
 ],
 "metadata": {
  "language_info": {
   "name": "python"
  }
 },
 "nbformat": 4,
 "nbformat_minor": 2
}
